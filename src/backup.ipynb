{
 "cells": [
  {
   "cell_type": "markdown",
   "metadata": {},
   "source": [
    "# Backup your data\n",
    "\n",
    "This script will backup your poweropti data by iteratively downloading all the data from the API.\n",
    "\n",
    "Note that only historical data (energy consumption in kWh) can be backed up effectively with a time resolution of 15-min aggregated values."
   ]
  },
  {
   "cell_type": "code",
   "execution_count": null,
   "metadata": {},
   "outputs": [],
   "source": [
    "from powerfox_api import PowerfoxAPI, JSON\n",
    "from pathlib import Path\n",
    "from datetime import date, timedelta, datetime\n",
    "\n",
    "# the ones you used in your app …\n",
    "USERNAME = \"\" # <- your username here\n",
    "PASSWORD = \"\" # <- your password here\n",
    "\n",
    "assert USERNAME and PASSWORD, \"Please provide your Powerfox credentials\"\n",
    "\n",
    "timestamp = datetime.now().strftime(\"%Y-%m-%d_%H-%M-%S\")\n",
    "FILENAME = Path(f\"./poweropti_backup_{timestamp}.jsonl\") # <- uses JSON Lines \n",
    "\n",
    "api = PowerfoxAPI(\n",
    "    username=USERNAME,\n",
    "    password=PASSWORD,\n",
    ")"
   ]
  },
  {
   "cell_type": "markdown",
   "metadata": {},
   "source": [
    "Crucial settings for the backup. Make sure to adjust `device` if you have multiple devices."
   ]
  },
  {
   "cell_type": "code",
   "execution_count": null,
   "metadata": {},
   "outputs": [],
   "source": [
    "devices = api.get_devices()\n",
    "device = devices[0]\n",
    "start = device.account_associated_since.date()\n",
    "end = date.today()\n",
    "# we want to scrape each data\n",
    "# this allows us to get the maximum time resolution\n",
    "# (i.e., if we would scrape each month instead, data would be more aggresively aggregated)\n",
    "dates = [start + timedelta(days=day) for day in range((end - start).days)]\n",
    "\n",
    "\n",
    "BATCH_APPEND = 15  # append data in batches of 15 days\n",
    "RETRIES = 10\n",
    "BACKOFF = 2  # exponential backoff in seconds"
   ]
  },
  {
   "cell_type": "markdown",
   "metadata": {},
   "source": [
    "The following backups all your historical energy consumption day by day with 15-min aggregation resolution. When tested, it took about 2 minutes per 365 days."
   ]
  },
  {
   "cell_type": "code",
   "execution_count": null,
   "metadata": {},
   "outputs": [],
   "source": [
    "from time import sleep\n",
    "from json import dumps\n",
    "\n",
    "def backup_date(day: date):\n",
    "    retries = 0\n",
    "    while retries < RETRIES:\n",
    "        try:\n",
    "            hisotrical_data = api.get_historical_data_raw(device_id=device.id, day=day)\n",
    "            return hisotrical_data\n",
    "        except Exception as e:\n",
    "            print(f\"Error while fetching data for {day}: {e}\")\n",
    "            retries += 1\n",
    "            sleep(BACKOFF * retries)\n",
    "\n",
    "    print(f\"Failed to fetch data for {day} after {RETRIES} retries\")\n",
    "\n",
    "def append_to_json_file(batch: dict[date, JSON], *, file: Path):\n",
    "    with file.open(\"a\") as f:\n",
    "        for day, data in batch.items():\n",
    "            f.write(\n",
    "                dumps({\n",
    "                    \"day\": day.isoformat(),\n",
    "                    \"data\": data\n",
    "                })\n",
    "                + \"\\n\"\n",
    "            )\n",
    "\n",
    "def backup(date_range: list[date] = dates, *, file: Path = FILENAME):\n",
    "    batch: dict[date, JSON] = {}\n",
    "\n",
    "    for day in date_range:\n",
    "        data = backup_date(day)\n",
    "\n",
    "        if data is None:\n",
    "            continue\n",
    "\n",
    "        batch[day] = data\n",
    "\n",
    "        if len(batch) >= BATCH_APPEND:\n",
    "            append_to_json_file(batch, file=file)\n",
    "            batch = {}\n",
    "\n",
    "    # dump the remaining\n",
    "    if len(batch) > 0:\n",
    "        append_to_json_file(batch, file=file)\n"
   ]
  },
  {
   "cell_type": "code",
   "execution_count": null,
   "metadata": {},
   "outputs": [],
   "source": [
    "# start the backup\n",
    "backup()"
   ]
  }
 ],
 "metadata": {
  "kernelspec": {
   "display_name": ".venv",
   "language": "python",
   "name": "python3"
  },
  "language_info": {
   "codemirror_mode": {
    "name": "ipython",
    "version": 3
   },
   "file_extension": ".py",
   "mimetype": "text/x-python",
   "name": "python",
   "nbconvert_exporter": "python",
   "pygments_lexer": "ipython3",
   "version": "3.12.9"
  }
 },
 "nbformat": 4,
 "nbformat_minor": 2
}
